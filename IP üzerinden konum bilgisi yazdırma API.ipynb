{
 "cells": [
  {
   "cell_type": "code",
   "execution_count": 13,
   "id": "ec089733-c72c-4509-aa0b-d1ec69651811",
   "metadata": {},
   "outputs": [
    {
     "name": "stdout",
     "output_type": "stream",
     "text": [
      "IP adresi: 46.197.64.132\n",
      "Şehir: Frankfurt am Main\n",
      "Başkent: None\n",
      "Ülke: Germany\n",
      "Kıta: Europe\n"
     ]
    }
   ],
   "source": [
    "#Proje 1\n",
    "import requests\n",
    "apikey = \"25b8ee8ed1e4ffbaf79a1db968bddf73\"\n",
    "ip = \"46.197.64.132\"\n",
    "url = \"http://api.ipstack.com/172.70.250.110?access_key=25b8ee8ed1e4ffbaf79a1db968bddf73\"\n",
    "response = requests.get(url)\n",
    "\n",
    "if response.status_code==200:\n",
    "    data = response.json()\n",
    "    print(\"IP adresi:\",ip)\n",
    "    print(\"Şehir:\",data.get(\"city\"))\n",
    "    print(\"Başkent:\",data.get('capital'))\n",
    "    print(\"Ülke:\",data.get('country_name'))\n",
    "    print(\"Kıta:\",data.get('continent_name'))\n",
    "    \n",
    "else:\n",
    "    print(\"İnternet sitesi veya api anahtarı hatalı\")\n",
    "  "
   ]
  },
  {
   "cell_type": "code",
   "execution_count": null,
   "id": "241da21b-f98c-4999-8d35-7394dfa80204",
   "metadata": {},
   "outputs": [],
   "source": []
  }
 ],
 "metadata": {
  "kernelspec": {
   "display_name": "Python 3 (ipykernel)",
   "language": "python",
   "name": "python3"
  },
  "language_info": {
   "codemirror_mode": {
    "name": "ipython",
    "version": 3
   },
   "file_extension": ".py",
   "mimetype": "text/x-python",
   "name": "python",
   "nbconvert_exporter": "python",
   "pygments_lexer": "ipython3",
   "version": "3.11.7"
  }
 },
 "nbformat": 4,
 "nbformat_minor": 5
}
